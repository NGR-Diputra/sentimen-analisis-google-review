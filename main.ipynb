{
 "cells": [
  {
   "cell_type": "markdown",
   "metadata": {},
   "source": [
    "READ DATASET"
   ]
  },
  {
   "cell_type": "code",
   "execution_count": 10,
   "metadata": {},
   "outputs": [],
   "source": [
    "import pandas as pd"
   ]
  },
  {
   "cell_type": "code",
   "execution_count": 11,
   "metadata": {},
   "outputs": [],
   "source": [
    "df = pd.read_excel(\"src/dataset.xlsx\")"
   ]
  },
  {
   "cell_type": "markdown",
   "metadata": {},
   "source": [
    "PREPROCESSING TEXT"
   ]
  },
  {
   "cell_type": "code",
   "execution_count": 12,
   "metadata": {},
   "outputs": [],
   "source": [
    "import string\n",
    "import re\n",
    "import json\n",
    "import nltk\n",
    "from nltk.corpus import stopwords\n",
    "from nltk.tokenize import word_tokenize\n",
    "from Sastrawi.Stemmer.StemmerFactory import StemmerFactory"
   ]
  },
  {
   "cell_type": "code",
   "execution_count": 13,
   "metadata": {},
   "outputs": [],
   "source": [
    "def case_folding(sentence):\n",
    "    emoji_pattern = re.compile(\"[\"\n",
    "        u\"\\U0001F600-\\U0001F64F\"  \n",
    "        u\"\\U0001F300-\\U0001F5FF\"  \n",
    "        u\"\\U0001F680-\\U0001F6FF\"  \n",
    "        u\"\\U0001F700-\\U0001F77F\"  \n",
    "        u\"\\U0001F780-\\U0001F7FF\"  \n",
    "        u\"\\U0001F800-\\U0001F8FF\"  \n",
    "        u\"\\U0001F900-\\U0001F9FF\"  \n",
    "        u\"\\U0001FA00-\\U0001FA6F\"  \n",
    "        u\"\\U0001FA70-\\U0001FAFF\"  \n",
    "        u\"\\U0001F004-\\U0001F0CF\"  \n",
    "        \"]+\", flags=re.UNICODE)\n",
    "\n",
    "    sentence = emoji_pattern.sub(r'', sentence)\n",
    "    sentence = sentence.translate(str.maketrans(\"\",\"\", string.punctuation)).lower()\n",
    "    sentence = re.sub(r\"\\d+\", \"\", sentence)\n",
    "    sentence = sentence.replace(\"/\", \" \")\n",
    "    return sentence"
   ]
  },
  {
   "cell_type": "code",
   "execution_count": 14,
   "metadata": {},
   "outputs": [],
   "source": [
    "file = \"abbreviation_file.txt\"\n",
    "\n",
    "def load_abbreviation_file(file):\n",
    "    try:\n",
    "        with open(file, \"r\") as file:\n",
    "            abbreviations = json.load(file)\n",
    "        return abbreviations\n",
    "    except FileExistsError:\n",
    "        print(f\"File not found {file}\")\n",
    "        return {}\n",
    "\n",
    "abbreviation_file = load_abbreviation_file(file)\n",
    "\n",
    "def normalize_text(sentence):\n",
    "    words = sentence.lower().split()\n",
    "    words_normalized = []\n",
    "    for word in words:\n",
    "        for full_form, abbreviations in abbreviation_file.items():\n",
    "            if word.lower() in abbreviations:\n",
    "                words_normalized.append(full_form)\n",
    "                break\n",
    "        else:\n",
    "            words_normalized.append(word)\n",
    "    return \" \".join(words_normalized)"
   ]
  },
  {
   "cell_type": "code",
   "execution_count": 15,
   "metadata": {},
   "outputs": [],
   "source": [
    "def stopwords_removal(sentence):\n",
    "    tokens = word_tokenize(sentence)\n",
    "    liststopwords =  set(stopwords.words('indonesian'))\n",
    "    custom_stopwords_file = \"more_stopwords.txt\"\n",
    "\n",
    "    custom_stopwords = set()\n",
    "    with open(custom_stopwords_file, \"r\") as file:\n",
    "        for line in file:\n",
    "            custom_stopwords.add(line.strip())\n",
    "\n",
    "    combined_stopwords = liststopwords.union(custom_stopwords)\n",
    "\n",
    "    with open(custom_stopwords_file, \"w\") as file:\n",
    "        for word in combined_stopwords:\n",
    "            file.write(word + \"\\n\")\n",
    "\n",
    "def remove_custom_stopwords(sentence, custom_stopwords_file):\n",
    "    custom_stopwords = set()\n",
    "    with open(custom_stopwords_file, 'r') as file:\n",
    "        for line in file:\n",
    "            custom_stopwords.add(line.strip())\n",
    "\n",
    "    words = word_tokenize(sentence)\n",
    "\n",
    "    filtered_words = [word for word in words if word.lower() not in custom_stopwords]\n",
    "\n",
    "    cleaned_text = ' '.join(filtered_words)\n",
    "\n",
    "    return cleaned_text"
   ]
  },
  {
   "cell_type": "code",
   "execution_count": 16,
   "metadata": {},
   "outputs": [],
   "source": [
    "def stemming_text(sentence):\n",
    "    factory = StemmerFactory()\n",
    "    Stemmer = factory.create_stemmer()\n",
    "\n",
    "    sentence = Stemmer.stem(sentence)\n",
    "    return sentence"
   ]
  },
  {
   "cell_type": "code",
   "execution_count": 17,
   "metadata": {},
   "outputs": [
    {
     "data": {
      "text/html": [
       "<div>\n",
       "<style scoped>\n",
       "    .dataframe tbody tr th:only-of-type {\n",
       "        vertical-align: middle;\n",
       "    }\n",
       "\n",
       "    .dataframe tbody tr th {\n",
       "        vertical-align: top;\n",
       "    }\n",
       "\n",
       "    .dataframe thead th {\n",
       "        text-align: right;\n",
       "    }\n",
       "</style>\n",
       "<table border=\"1\" class=\"dataframe\">\n",
       "  <thead>\n",
       "    <tr style=\"text-align: right;\">\n",
       "      <th></th>\n",
       "      <th>author_title</th>\n",
       "      <th>review_rating</th>\n",
       "      <th>review_text</th>\n",
       "      <th>case_folding</th>\n",
       "      <th>normalized_text</th>\n",
       "      <th>stopword_removed</th>\n",
       "      <th>stemmed_text</th>\n",
       "    </tr>\n",
       "  </thead>\n",
       "  <tbody>\n",
       "    <tr>\n",
       "      <th>0</th>\n",
       "      <td>Felix zhang</td>\n",
       "      <td>5</td>\n",
       "      <td>Urus KTP hilang cukup surat keterangan hilang dari kepolisian dan fotokopi KK\\nAntrian sekitar 1 jam, proses cetak hanya sekitar 2 menit</td>\n",
       "      <td>urus ktp hilang cukup surat keterangan hilang dari kepolisian dan fotokopi kk\\nantrian sekitar  jam proses cetak hanya sekitar  menit</td>\n",
       "      <td>urus kartu tanda penduduk hilang cukup surat keterangan hilang dari kepolisian dan fotokopi kartu keluarga antrian sekitar jam proses cetak hanya sekitar menit</td>\n",
       "      <td>urus kartu tanda penduduk hilang surat keterangan hilang kepolisian fotokopi kartu keluarga antrian jam proses cetak menit</td>\n",
       "      <td>urus kartu tanda duduk hilang surat terang hilang polisi fotokopi kartu keluarga antri jam proses cetak menit</td>\n",
       "    </tr>\n",
       "  </tbody>\n",
       "</table>\n",
       "</div>"
      ],
      "text/plain": [
       "  author_title  review_rating   \n",
       "0  Felix zhang              5  \\\n",
       "\n",
       "                                                                                                                                review_text   \n",
       "0  Urus KTP hilang cukup surat keterangan hilang dari kepolisian dan fotokopi KK\\nAntrian sekitar 1 jam, proses cetak hanya sekitar 2 menit  \\\n",
       "\n",
       "                                                                                                                            case_folding   \n",
       "0  urus ktp hilang cukup surat keterangan hilang dari kepolisian dan fotokopi kk\\nantrian sekitar  jam proses cetak hanya sekitar  menit  \\\n",
       "\n",
       "                                                                                                                                                   normalized_text   \n",
       "0  urus kartu tanda penduduk hilang cukup surat keterangan hilang dari kepolisian dan fotokopi kartu keluarga antrian sekitar jam proses cetak hanya sekitar menit  \\\n",
       "\n",
       "                                                                                                             stopword_removed   \n",
       "0  urus kartu tanda penduduk hilang surat keterangan hilang kepolisian fotokopi kartu keluarga antrian jam proses cetak menit  \\\n",
       "\n",
       "                                                                                                    stemmed_text  \n",
       "0  urus kartu tanda duduk hilang surat terang hilang polisi fotokopi kartu keluarga antri jam proses cetak menit  "
      ]
     },
     "execution_count": 17,
     "metadata": {},
     "output_type": "execute_result"
    }
   ],
   "source": [
    "df['case_folding'] = df['review_text'].apply(case_folding)\n",
    "df['normalized_text'] = df['case_folding'].apply(normalize_text)\n",
    "df['stopword_removed'] = df['normalized_text'].apply(lambda x: remove_custom_stopwords(x, 'more_stopwords.txt'))\n",
    "df['stemmed_text'] = df['stopword_removed'].apply(stemming_text)\n",
    "pd.set_option('display.max_colwidth', None)\n",
    "df.head(1)"
   ]
  },
  {
   "cell_type": "code",
   "execution_count": 19,
   "metadata": {},
   "outputs": [],
   "source": [
    "import tensorflow\n",
    "from sklearn.preprocessing import LabelEncoder\n",
    "from sklearn.model_selection import train_test_split\n",
    "from tensorflow.keras.preprocessing.text import Tokenizer\n",
    "from tensorflow.keras.models import Sequential\n",
    "from tensorflow.keras.layers import Embedding, Flatten, Dense\n",
    "from tensorflow.keras.preprocessing.sequence import pad_sequences\n",
    "from keras.utils import to_categorical\n",
    "from keras import models"
   ]
  }
 ],
 "metadata": {
  "kernelspec": {
   "display_name": "Python 3",
   "language": "python",
   "name": "python3"
  },
  "language_info": {
   "codemirror_mode": {
    "name": "ipython",
    "version": 3
   },
   "file_extension": ".py",
   "mimetype": "text/x-python",
   "name": "python",
   "nbconvert_exporter": "python",
   "pygments_lexer": "ipython3",
   "version": "3.11.2"
  }
 },
 "nbformat": 4,
 "nbformat_minor": 2
}
