{
 "cells": [
  {
   "cell_type": "markdown",
   "metadata": {},
   "source": [
    "READ DATASET"
   ]
  },
  {
   "cell_type": "code",
   "execution_count": 1,
   "metadata": {},
   "outputs": [],
   "source": [
    "import pandas as pd"
   ]
  },
  {
   "cell_type": "code",
   "execution_count": 2,
   "metadata": {},
   "outputs": [],
   "source": [
    "df = pd.read_excel(\"src/dataset.xlsx\")"
   ]
  },
  {
   "cell_type": "markdown",
   "metadata": {},
   "source": [
    "PREPROCESSING TEXT"
   ]
  },
  {
   "cell_type": "code",
   "execution_count": 3,
   "metadata": {},
   "outputs": [],
   "source": [
    "import string\n",
    "import re\n",
    "import json\n",
    "import nltk\n",
    "from nltk.corpus import stopwords\n",
    "from nltk.tokenize import word_tokenize\n",
    "from Sastrawi.Stemmer.StemmerFactory import StemmerFactory"
   ]
  },
  {
   "cell_type": "code",
   "execution_count": 4,
   "metadata": {},
   "outputs": [],
   "source": [
    "def case_folding(sentence):\n",
    "    emoji_pattern = re.compile(\"[\"\n",
    "        u\"\\U0001F600-\\U0001F64F\"  \n",
    "        u\"\\U0001F300-\\U0001F5FF\"  \n",
    "        u\"\\U0001F680-\\U0001F6FF\"  \n",
    "        u\"\\U0001F700-\\U0001F77F\"  \n",
    "        u\"\\U0001F780-\\U0001F7FF\"  \n",
    "        u\"\\U0001F800-\\U0001F8FF\"  \n",
    "        u\"\\U0001F900-\\U0001F9FF\"  \n",
    "        u\"\\U0001FA00-\\U0001FA6F\"  \n",
    "        u\"\\U0001FA70-\\U0001FAFF\"  \n",
    "        u\"\\U0001F004-\\U0001F0CF\"  \n",
    "        \"]+\", flags=re.UNICODE)\n",
    "\n",
    "    sentence = emoji_pattern.sub(r'', sentence)\n",
    "    sentence = sentence.translate(str.maketrans(\"\",\"\", string.punctuation)).lower()\n",
    "    sentence = re.sub(r\"\\d+\", \"\", sentence)\n",
    "    sentence = sentence.replace(\"/\", \" \")\n",
    "    return sentence"
   ]
  },
  {
   "cell_type": "code",
   "execution_count": 5,
   "metadata": {},
   "outputs": [],
   "source": [
    "file = \"abbreviation_file.txt\"\n",
    "\n",
    "def load_abbreviation_file(file):\n",
    "    try:\n",
    "        with open(file, \"r\") as file:\n",
    "            abbreviations = json.load(file)\n",
    "        return abbreviations\n",
    "    except FileExistsError:\n",
    "        print(f\"File not found {file}\")\n",
    "        return {}\n",
    "\n",
    "abbreviation_file = load_abbreviation_file(file)\n",
    "\n",
    "def normalize_text(sentence):\n",
    "    words = sentence.lower().split()\n",
    "    words_normalized = []\n",
    "    for word in words:\n",
    "        for full_form, abbreviations in abbreviation_file.items():\n",
    "            if word.lower() in abbreviations:\n",
    "                words_normalized.append(full_form)\n",
    "                break\n",
    "        else:\n",
    "            words_normalized.append(word)\n",
    "    return \" \".join(words_normalized)"
   ]
  },
  {
   "cell_type": "code",
   "execution_count": 6,
   "metadata": {},
   "outputs": [],
   "source": [
    "def stopwords_removal(sentence):\n",
    "    tokens = word_tokenize(sentence)\n",
    "    liststopwords =  set(stopwords.words('indonesian'))\n",
    "    custom_stopwords_file = \"more_stopwords.txt\"\n",
    "\n",
    "    custom_stopwords = set()\n",
    "    with open(custom_stopwords_file, \"r\") as file:\n",
    "        for line in file:\n",
    "            custom_stopwords.add(line.strip())\n",
    "\n",
    "    combined_stopwords = liststopwords.union(custom_stopwords)\n",
    "\n",
    "    with open(custom_stopwords_file, \"w\") as file:\n",
    "        for word in combined_stopwords:\n",
    "            file.write(word + \"\\n\")\n",
    "\n",
    "def remove_custom_stopwords(sentence, custom_stopwords_file):\n",
    "    custom_stopwords = set()\n",
    "    with open(custom_stopwords_file, 'r') as file:\n",
    "        for line in file:\n",
    "            custom_stopwords.add(line.strip())\n",
    "\n",
    "    words = word_tokenize(sentence)\n",
    "\n",
    "    filtered_words = [word for word in words if word.lower() not in custom_stopwords]\n",
    "\n",
    "    cleaned_text = ' '.join(filtered_words)\n",
    "\n",
    "    return cleaned_text"
   ]
  },
  {
   "cell_type": "code",
   "execution_count": 7,
   "metadata": {},
   "outputs": [],
   "source": [
    "def stemming_text(sentence):\n",
    "    factory = StemmerFactory()\n",
    "    Stemmer = factory.create_stemmer()\n",
    "\n",
    "    sentence = Stemmer.stem(sentence)\n",
    "    return sentence"
   ]
  },
  {
   "cell_type": "code",
   "execution_count": 8,
   "metadata": {},
   "outputs": [
    {
     "data": {
      "text/html": [
       "<div>\n",
       "<style scoped>\n",
       "    .dataframe tbody tr th:only-of-type {\n",
       "        vertical-align: middle;\n",
       "    }\n",
       "\n",
       "    .dataframe tbody tr th {\n",
       "        vertical-align: top;\n",
       "    }\n",
       "\n",
       "    .dataframe thead th {\n",
       "        text-align: right;\n",
       "    }\n",
       "</style>\n",
       "<table border=\"1\" class=\"dataframe\">\n",
       "  <thead>\n",
       "    <tr style=\"text-align: right;\">\n",
       "      <th></th>\n",
       "      <th>author_title</th>\n",
       "      <th>review_rating</th>\n",
       "      <th>review_text</th>\n",
       "      <th>case_folding</th>\n",
       "      <th>normalized_text</th>\n",
       "      <th>stopword_removed</th>\n",
       "      <th>stemmed_text</th>\n",
       "    </tr>\n",
       "  </thead>\n",
       "  <tbody>\n",
       "    <tr>\n",
       "      <th>0</th>\n",
       "      <td>Felix zhang</td>\n",
       "      <td>5</td>\n",
       "      <td>Urus KTP hilang cukup surat keterangan hilang dari kepolisian dan fotokopi KK\\nAntrian sekitar 1 jam, proses cetak hanya sekitar 2 menit</td>\n",
       "      <td>urus ktp hilang cukup surat keterangan hilang dari kepolisian dan fotokopi kk\\nantrian sekitar  jam proses cetak hanya sekitar  menit</td>\n",
       "      <td>urus kartu tanda penduduk hilang cukup surat keterangan hilang dari kepolisian dan fotokopi kartu keluarga antrian sekitar jam proses cetak hanya sekitar menit</td>\n",
       "      <td>urus kartu tanda penduduk hilang surat keterangan hilang kepolisian fotokopi kartu keluarga antrian jam proses cetak menit</td>\n",
       "      <td>urus kartu tanda duduk hilang surat terang hilang polisi fotokopi kartu keluarga antri jam proses cetak menit</td>\n",
       "    </tr>\n",
       "  </tbody>\n",
       "</table>\n",
       "</div>"
      ],
      "text/plain": [
       "  author_title  review_rating   \n",
       "0  Felix zhang              5  \\\n",
       "\n",
       "                                                                                                                                review_text   \n",
       "0  Urus KTP hilang cukup surat keterangan hilang dari kepolisian dan fotokopi KK\\nAntrian sekitar 1 jam, proses cetak hanya sekitar 2 menit  \\\n",
       "\n",
       "                                                                                                                            case_folding   \n",
       "0  urus ktp hilang cukup surat keterangan hilang dari kepolisian dan fotokopi kk\\nantrian sekitar  jam proses cetak hanya sekitar  menit  \\\n",
       "\n",
       "                                                                                                                                                   normalized_text   \n",
       "0  urus kartu tanda penduduk hilang cukup surat keterangan hilang dari kepolisian dan fotokopi kartu keluarga antrian sekitar jam proses cetak hanya sekitar menit  \\\n",
       "\n",
       "                                                                                                             stopword_removed   \n",
       "0  urus kartu tanda penduduk hilang surat keterangan hilang kepolisian fotokopi kartu keluarga antrian jam proses cetak menit  \\\n",
       "\n",
       "                                                                                                    stemmed_text  \n",
       "0  urus kartu tanda duduk hilang surat terang hilang polisi fotokopi kartu keluarga antri jam proses cetak menit  "
      ]
     },
     "execution_count": 8,
     "metadata": {},
     "output_type": "execute_result"
    }
   ],
   "source": [
    "df['case_folding'] = df['review_text'].apply(case_folding)\n",
    "df['normalized_text'] = df['case_folding'].apply(normalize_text)\n",
    "df['stopword_removed'] = df['normalized_text'].apply(lambda x: remove_custom_stopwords(x, 'more_stopwords.txt'))\n",
    "df['stemmed_text'] = df['stopword_removed'].apply(stemming_text)\n",
    "pd.set_option('display.max_colwidth', None)\n",
    "df.head(1)"
   ]
  },
  {
   "cell_type": "code",
   "execution_count": 9,
   "metadata": {},
   "outputs": [],
   "source": [
    "import tensorflow\n",
    "from sklearn.preprocessing import LabelEncoder\n",
    "from sklearn.model_selection import train_test_split\n",
    "from tensorflow.keras.preprocessing.text import Tokenizer\n",
    "from tensorflow.keras.models import Sequential\n",
    "from tensorflow.keras.layers import Embedding, Flatten, Dense\n",
    "from tensorflow.keras.preprocessing.sequence import pad_sequences\n",
    "from keras.utils import to_categorical\n",
    "from keras import models"
   ]
  },
  {
   "cell_type": "code",
   "execution_count": 10,
   "metadata": {},
   "outputs": [
    {
     "data": {
      "text/html": [
       "<div>\n",
       "<style scoped>\n",
       "    .dataframe tbody tr th:only-of-type {\n",
       "        vertical-align: middle;\n",
       "    }\n",
       "\n",
       "    .dataframe tbody tr th {\n",
       "        vertical-align: top;\n",
       "    }\n",
       "\n",
       "    .dataframe thead th {\n",
       "        text-align: right;\n",
       "    }\n",
       "</style>\n",
       "<table border=\"1\" class=\"dataframe\">\n",
       "  <thead>\n",
       "    <tr style=\"text-align: right;\">\n",
       "      <th></th>\n",
       "      <th>stemmed_text</th>\n",
       "      <th>sentiment_category</th>\n",
       "      <th>encoded_label</th>\n",
       "    </tr>\n",
       "  </thead>\n",
       "  <tbody>\n",
       "    <tr>\n",
       "      <th>0</th>\n",
       "      <td>urus kartu tanda duduk hilang surat terang hilang polisi fotokopi kartu keluarga antri jam proses cetak menit</td>\n",
       "      <td>Positive</td>\n",
       "      <td>2</td>\n",
       "    </tr>\n",
       "    <tr>\n",
       "      <th>1</th>\n",
       "      <td>urus akta nikah online taring denpasar proses cetak arah kantor informasi terima email cetak akta paket kartu tanda duduk kartu keluarga terbit admin wa taring denpasar respon tanggap cepat respect admin wa nya suasana dukcapil loket layan cepat ramah tunggu nyaman antri ramai paham alur astungkara mudah cepat</td>\n",
       "      <td>Positive</td>\n",
       "      <td>2</td>\n",
       "    </tr>\n",
       "    <tr>\n",
       "      <th>2</th>\n",
       "      <td>layan mana buat suratsurat mudah sistem online bulakbalik penuh dokumen langsung cetak mandiri bawa ojek online tugas ramah bimbing sulit moga layan tahan tingkat terimakasih</td>\n",
       "      <td>Positive</td>\n",
       "      <td>2</td>\n",
       "    </tr>\n",
       "    <tr>\n",
       "      <th>3</th>\n",
       "      <td>cocok gaji staf staf dukcapil kerja nya buru buru pulang jam salah salah cetak kartu tanda duduk kartu keluarga status agama kartu tanda duduk ganti buru buru pulang kerja beres</td>\n",
       "      <td>Negative</td>\n",
       "      <td>0</td>\n",
       "    </tr>\n",
       "    <tr>\n",
       "      <th>4</th>\n",
       "      <td>proses cepat online riweh bingung tinggal wa admin nya layan ramah ya beda sangtta yaa sih ter the best pokok</td>\n",
       "      <td>Positive</td>\n",
       "      <td>2</td>\n",
       "    </tr>\n",
       "  </tbody>\n",
       "</table>\n",
       "</div>"
      ],
      "text/plain": [
       "                                                                                                                                                                                                                                                                                                              stemmed_text   \n",
       "0                                                                                                                                                                                                            urus kartu tanda duduk hilang surat terang hilang polisi fotokopi kartu keluarga antri jam proses cetak menit  \\\n",
       "1  urus akta nikah online taring denpasar proses cetak arah kantor informasi terima email cetak akta paket kartu tanda duduk kartu keluarga terbit admin wa taring denpasar respon tanggap cepat respect admin wa nya suasana dukcapil loket layan cepat ramah tunggu nyaman antri ramai paham alur astungkara mudah cepat   \n",
       "2                                                                                                                                           layan mana buat suratsurat mudah sistem online bulakbalik penuh dokumen langsung cetak mandiri bawa ojek online tugas ramah bimbing sulit moga layan tahan tingkat terimakasih   \n",
       "3                                                                                                                                        cocok gaji staf staf dukcapil kerja nya buru buru pulang jam salah salah cetak kartu tanda duduk kartu keluarga status agama kartu tanda duduk ganti buru buru pulang kerja beres   \n",
       "4                                                                                                                                                                                                            proses cepat online riweh bingung tinggal wa admin nya layan ramah ya beda sangtta yaa sih ter the best pokok   \n",
       "\n",
       "  sentiment_category  encoded_label  \n",
       "0           Positive              2  \n",
       "1           Positive              2  \n",
       "2           Positive              2  \n",
       "3           Negative              0  \n",
       "4           Positive              2  "
      ]
     },
     "execution_count": 10,
     "metadata": {},
     "output_type": "execute_result"
    }
   ],
   "source": [
    "label_mapping = {1: 'Negative', 2: 'Negative', 3: 'Neutral', 4: 'Positive', 5: 'Positive'}\n",
    "\n",
    "df_encoded = pd.DataFrame()\n",
    "df_encoded['stemmed_text'] = df['stemmed_text']\n",
    "df_encoded['sentiment_category'] = df['review_rating'].map(label_mapping)\n",
    "df_encoded['sentiment_category'].fillna('Neutral', inplace=True)\n",
    "\n",
    "label_encoder = LabelEncoder()\n",
    "df_encoded['encoded_label'] = label_encoder.fit_transform(df_encoded['sentiment_category'])\n",
    "\n",
    "df_encoded.head()"
   ]
  },
  {
   "cell_type": "code",
   "execution_count": 11,
   "metadata": {},
   "outputs": [],
   "source": [
    "X_train, X_test, y_train, y_test = train_test_split(df_encoded['stemmed_text'], df_encoded['encoded_label'], test_size=0.2, random_state=42)"
   ]
  },
  {
   "cell_type": "code",
   "execution_count": 12,
   "metadata": {},
   "outputs": [],
   "source": [
    "max_words = 10000\n",
    "tokenizer = Tokenizer(num_words=max_words, oov_token='<OOV>')\n",
    "tokenizer.fit_on_texts(X_train)\n",
    "\n",
    "X_train_seq = tokenizer.texts_to_sequences(X_train)\n",
    "X_test_seq = tokenizer.texts_to_sequences(X_test)\n",
    "\n",
    "max_length = 100  # Adjust based on your dataset\n",
    "X_train_padded = pad_sequences(X_train_seq, maxlen=max_length, padding='post')\n",
    "X_test_padded = pad_sequences(X_test_seq, maxlen=max_length, padding='post')"
   ]
  },
  {
   "cell_type": "code",
   "execution_count": 13,
   "metadata": {},
   "outputs": [
    {
     "data": {
      "text/html": [
       "<div>\n",
       "<style scoped>\n",
       "    .dataframe tbody tr th:only-of-type {\n",
       "        vertical-align: middle;\n",
       "    }\n",
       "\n",
       "    .dataframe tbody tr th {\n",
       "        vertical-align: top;\n",
       "    }\n",
       "\n",
       "    .dataframe thead th {\n",
       "        text-align: right;\n",
       "    }\n",
       "</style>\n",
       "<table border=\"1\" class=\"dataframe\">\n",
       "  <thead>\n",
       "    <tr style=\"text-align: right;\">\n",
       "      <th></th>\n",
       "      <th>stemmed_text</th>\n",
       "      <th>sentiment_category</th>\n",
       "      <th>encoded_label</th>\n",
       "    </tr>\n",
       "  </thead>\n",
       "  <tbody>\n",
       "    <tr>\n",
       "      <th>0</th>\n",
       "      <td>urus kartu tanda duduk hilang surat terang hilang polisi fotokopi kartu keluarga antri jam proses cetak menit</td>\n",
       "      <td>Positive</td>\n",
       "      <td>0.0</td>\n",
       "    </tr>\n",
       "    <tr>\n",
       "      <th>1</th>\n",
       "      <td>urus akta nikah online taring denpasar proses cetak arah kantor informasi terima email cetak akta paket kartu tanda duduk kartu keluarga terbit admin wa taring denpasar respon tanggap cepat respect admin wa nya suasana dukcapil loket layan cepat ramah tunggu nyaman antri ramai paham alur astungkara mudah cepat</td>\n",
       "      <td>Positive</td>\n",
       "      <td>0.0</td>\n",
       "    </tr>\n",
       "    <tr>\n",
       "      <th>2</th>\n",
       "      <td>layan mana buat suratsurat mudah sistem online bulakbalik penuh dokumen langsung cetak mandiri bawa ojek online tugas ramah bimbing sulit moga layan tahan tingkat terimakasih</td>\n",
       "      <td>Positive</td>\n",
       "      <td>0.0</td>\n",
       "    </tr>\n",
       "    <tr>\n",
       "      <th>3</th>\n",
       "      <td>cocok gaji staf staf dukcapil kerja nya buru buru pulang jam salah salah cetak kartu tanda duduk kartu keluarga status agama kartu tanda duduk ganti buru buru pulang kerja beres</td>\n",
       "      <td>Negative</td>\n",
       "      <td>1.0</td>\n",
       "    </tr>\n",
       "    <tr>\n",
       "      <th>4</th>\n",
       "      <td>proses cepat online riweh bingung tinggal wa admin nya layan ramah ya beda sangtta yaa sih ter the best pokok</td>\n",
       "      <td>Positive</td>\n",
       "      <td>0.0</td>\n",
       "    </tr>\n",
       "  </tbody>\n",
       "</table>\n",
       "</div>"
      ],
      "text/plain": [
       "                                                                                                                                                                                                                                                                                                              stemmed_text   \n",
       "0                                                                                                                                                                                                            urus kartu tanda duduk hilang surat terang hilang polisi fotokopi kartu keluarga antri jam proses cetak menit  \\\n",
       "1  urus akta nikah online taring denpasar proses cetak arah kantor informasi terima email cetak akta paket kartu tanda duduk kartu keluarga terbit admin wa taring denpasar respon tanggap cepat respect admin wa nya suasana dukcapil loket layan cepat ramah tunggu nyaman antri ramai paham alur astungkara mudah cepat   \n",
       "2                                                                                                                                           layan mana buat suratsurat mudah sistem online bulakbalik penuh dokumen langsung cetak mandiri bawa ojek online tugas ramah bimbing sulit moga layan tahan tingkat terimakasih   \n",
       "3                                                                                                                                        cocok gaji staf staf dukcapil kerja nya buru buru pulang jam salah salah cetak kartu tanda duduk kartu keluarga status agama kartu tanda duduk ganti buru buru pulang kerja beres   \n",
       "4                                                                                                                                                                                                            proses cepat online riweh bingung tinggal wa admin nya layan ramah ya beda sangtta yaa sih ter the best pokok   \n",
       "\n",
       "  sentiment_category  encoded_label  \n",
       "0           Positive            0.0  \n",
       "1           Positive            0.0  \n",
       "2           Positive            0.0  \n",
       "3           Negative            1.0  \n",
       "4           Positive            0.0  "
      ]
     },
     "execution_count": 13,
     "metadata": {},
     "output_type": "execute_result"
    }
   ],
   "source": [
    "df_encoded['encoded_label'] = to_categorical(df_encoded['encoded_label'])\n",
    "df_encoded.head()"
   ]
  },
  {
   "cell_type": "code",
   "execution_count": 14,
   "metadata": {},
   "outputs": [
    {
     "name": "stdout",
     "output_type": "stream",
     "text": [
      "Epoch 1/15\n",
      "21/21 [==============================] - 2s 42ms/step - loss: 0.6917 - accuracy: 0.7103 - val_loss: 0.5764 - val_accuracy: 0.7485\n",
      "Epoch 2/15\n",
      "21/21 [==============================] - 1s 27ms/step - loss: 0.5007 - accuracy: 0.8243 - val_loss: 0.4783 - val_accuracy: 0.7975\n",
      "Epoch 3/15\n",
      "21/21 [==============================] - 1s 28ms/step - loss: 0.3476 - accuracy: 0.8937 - val_loss: 0.4101 - val_accuracy: 0.8712\n",
      "Epoch 4/15\n",
      "21/21 [==============================] - 1s 28ms/step - loss: 0.2341 - accuracy: 0.9353 - val_loss: 0.3719 - val_accuracy: 0.8773\n",
      "Epoch 5/15\n",
      "21/21 [==============================] - 1s 29ms/step - loss: 0.1581 - accuracy: 0.9599 - val_loss: 0.3747 - val_accuracy: 0.8589\n",
      "Epoch 6/15\n",
      "21/21 [==============================] - 1s 28ms/step - loss: 0.1150 - accuracy: 0.9723 - val_loss: 0.3552 - val_accuracy: 0.8773\n",
      "Epoch 7/15\n",
      "21/21 [==============================] - 1s 29ms/step - loss: 0.0872 - accuracy: 0.9738 - val_loss: 0.3496 - val_accuracy: 0.8896\n",
      "Epoch 8/15\n",
      "21/21 [==============================] - 1s 32ms/step - loss: 0.0676 - accuracy: 0.9831 - val_loss: 0.3683 - val_accuracy: 0.8773\n",
      "Epoch 9/15\n",
      "21/21 [==============================] - 1s 33ms/step - loss: 0.0545 - accuracy: 0.9861 - val_loss: 0.3620 - val_accuracy: 0.8773\n",
      "Epoch 10/15\n",
      "21/21 [==============================] - 1s 27ms/step - loss: 0.0428 - accuracy: 0.9861 - val_loss: 0.3609 - val_accuracy: 0.8712\n",
      "Epoch 11/15\n",
      "21/21 [==============================] - 1s 31ms/step - loss: 0.0367 - accuracy: 0.9892 - val_loss: 0.3828 - val_accuracy: 0.8773\n",
      "Epoch 12/15\n",
      "21/21 [==============================] - 1s 32ms/step - loss: 0.0298 - accuracy: 0.9938 - val_loss: 0.3693 - val_accuracy: 0.8834\n",
      "Epoch 13/15\n",
      "21/21 [==============================] - 1s 27ms/step - loss: 0.0268 - accuracy: 0.9954 - val_loss: 0.3829 - val_accuracy: 0.8834\n",
      "Epoch 14/15\n",
      "21/21 [==============================] - 1s 30ms/step - loss: 0.0219 - accuracy: 0.9969 - val_loss: 0.3856 - val_accuracy: 0.8712\n",
      "Epoch 15/15\n",
      "21/21 [==============================] - 1s 26ms/step - loss: 0.0185 - accuracy: 0.9969 - val_loss: 0.3928 - val_accuracy: 0.8650\n"
     ]
    },
    {
     "data": {
      "text/plain": [
       "<keras.callbacks.History at 0x1cd7a0669d0>"
      ]
     },
     "execution_count": 14,
     "metadata": {},
     "output_type": "execute_result"
    }
   ],
   "source": [
    "# Build a simple neural network\n",
    "model = Sequential()\n",
    "model.add(Embedding(input_dim=max_words, output_dim=128, input_length=max_length))\n",
    "model.add(Flatten())\n",
    "model.add(Dense(units=64, activation='relu'))\n",
    "model.add(Dense(units=3, activation='softmax'))  # 3 output units for three categories\n",
    "\n",
    "# Compile the model\n",
    "model.compile(optimizer='adam', loss='categorical_crossentropy', metrics=['accuracy'])\n",
    "\n",
    "# Train the model\n",
    "model.fit(X_train_padded, to_categorical(y_train), epochs=15, validation_data=(X_test_padded, to_categorical(y_test)))"
   ]
  },
  {
   "cell_type": "code",
   "execution_count": null,
   "metadata": {},
   "outputs": [],
   "source": []
  }
 ],
 "metadata": {
  "kernelspec": {
   "display_name": "Python 3",
   "language": "python",
   "name": "python3"
  },
  "language_info": {
   "codemirror_mode": {
    "name": "ipython",
    "version": 3
   },
   "file_extension": ".py",
   "mimetype": "text/x-python",
   "name": "python",
   "nbconvert_exporter": "python",
   "pygments_lexer": "ipython3",
   "version": "3.11.2"
  }
 },
 "nbformat": 4,
 "nbformat_minor": 2
}
