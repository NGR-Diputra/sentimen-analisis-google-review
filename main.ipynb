{
 "cells": [
  {
   "cell_type": "markdown",
   "metadata": {},
   "source": [
    "READ DATASET"
   ]
  },
  {
   "cell_type": "code",
   "execution_count": 1,
   "metadata": {},
   "outputs": [],
   "source": [
    "import pandas as pd"
   ]
  },
  {
   "cell_type": "code",
   "execution_count": null,
   "metadata": {},
   "outputs": [],
   "source": [
    "df = pd.read_excel(\"src/dataset.xlsx\")"
   ]
  },
  {
   "cell_type": "markdown",
   "metadata": {},
   "source": [
    "PREPROCESSING TEXT"
   ]
  },
  {
   "cell_type": "code",
   "execution_count": 3,
   "metadata": {},
   "outputs": [],
   "source": [
    "import string\n",
    "import re\n",
    "import json\n",
    "import nltk\n",
    "from nltk.corpus import stopwords\n",
    "from nltk.tokenize import word_tokenize\n",
    "from Sastrawi.Stemmer.StemmerFactory import StemmerFactory"
   ]
  },
  {
   "cell_type": "code",
   "execution_count": 5,
   "metadata": {},
   "outputs": [],
   "source": [
    "def case_folding(sentence):\n",
    "    emoji_pattern = re.compile(\"[\"\n",
    "        u\"\\U0001F600-\\U0001F64F\"  \n",
    "        u\"\\U0001F300-\\U0001F5FF\"  \n",
    "        u\"\\U0001F680-\\U0001F6FF\"  \n",
    "        u\"\\U0001F700-\\U0001F77F\"  \n",
    "        u\"\\U0001F780-\\U0001F7FF\"  \n",
    "        u\"\\U0001F800-\\U0001F8FF\"  \n",
    "        u\"\\U0001F900-\\U0001F9FF\"  \n",
    "        u\"\\U0001FA00-\\U0001FA6F\"  \n",
    "        u\"\\U0001FA70-\\U0001FAFF\"  \n",
    "        u\"\\U0001F004-\\U0001F0CF\"  \n",
    "        \"]+\", flags=re.UNICODE)\n",
    "\n",
    "    sentence = emoji_pattern.sub(r'', sentence)\n",
    "    sentence = sentence.translate(str.maketrans(\"\",\"\", string.punctuation)).lower()\n",
    "    sentence = re.sub(r\"\\d+\", \"\", sentence)\n",
    "    sentence = sentence.replace(\"/\", \" \")\n",
    "    return sentence"
   ]
  },
  {
   "cell_type": "code",
   "execution_count": 7,
   "metadata": {},
   "outputs": [],
   "source": [
    "file = \"abbreviation_file.txt\"\n",
    "\n",
    "def load_abbreviation_file(file):\n",
    "    try:\n",
    "        with open(file, \"r\") as file:\n",
    "            abbreviations = json.load(file)\n",
    "        return abbreviations\n",
    "    except FileExistsError:\n",
    "        print(f\"File not found {file}\")\n",
    "        return {}\n",
    "\n",
    "abbreviation_file = load_abbreviation_file(file)\n",
    "\n",
    "def normalize_text(sentence):\n",
    "    words = sentence.lower().split()\n",
    "    words_normalized = []\n",
    "    for word in words:\n",
    "        for full_form, abbreviations in abbreviation_file.items():\n",
    "            if word.lower() in abbreviations:\n",
    "                words_normalized.append(full_form)\n",
    "                break\n",
    "        else:\n",
    "            words_normalized.append(word)\n",
    "    return \" \".join(words_normalized)"
   ]
  }
 ],
 "metadata": {
  "kernelspec": {
   "display_name": "Python 3",
   "language": "python",
   "name": "python3"
  },
  "language_info": {
   "codemirror_mode": {
    "name": "ipython",
    "version": 3
   },
   "file_extension": ".py",
   "mimetype": "text/x-python",
   "name": "python",
   "nbconvert_exporter": "python",
   "pygments_lexer": "ipython3",
   "version": "3.11.2"
  }
 },
 "nbformat": 4,
 "nbformat_minor": 2
}
